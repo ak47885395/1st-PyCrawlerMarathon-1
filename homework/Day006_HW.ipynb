{
 "cells": [
  {
   "cell_type": "markdown",
   "metadata": {},
   "source": [
    "# API 資料串接 - 以 知乎 API 實作範例\n",
    "\n",
    "\n",
    "\n",
    "* 了解知乎 API 使用方式與回傳內容\n",
    "* 撰寫程式存取 API 且添加標頭\n",
    "\n",
    "\n"
   ]
  },
  {
   "cell_type": "markdown",
   "metadata": {},
   "source": [
    "## 作業目標\n",
    "\n",
    "* 根據範例提供的 API ，完成以下問題：\n",
    "\n",
    "    1. 取出知乎問題發問時間\n",
    "    2. 取出第一筆與最後一筆回答的時間\n"
   ]
  },
  {
   "cell_type": "markdown",
   "metadata": {},
   "source": [
    "### 1. 取出知乎問題發問時間"
   ]
  },
  {
   "cell_type": "code",
   "execution_count": 2,
   "metadata": {},
   "outputs": [
    {
     "name": "stdout",
     "output_type": "stream",
     "text": [
      "<class 'dict'>\n",
      "<class 'list'>\n",
      "<class 'dict'>\n",
      "1486390229\n",
      "Feb 06 2017 14:10:29\n"
     ]
    }
   ],
   "source": [
    "# 1. 取出知乎問題發問時間\n",
    "import requests\n",
    "import json\n",
    "import time\n",
    "headers = {'user-agent': 'my-app/0.0.1'}\n",
    "r = requests.get('https://www.zhihu.com/api/v4/questions/55493026/answers',headers=headers)\n",
    "response = r.text\n",
    "\n",
    "data = json.loads(response)\n",
    "\n",
    "print(type(data))\n",
    "print(type(data['data']))\n",
    "print(type(data['data'][0]))\n",
    "#for x in data['data'][0]:\n",
    "#    print(\"{}:{} \".format(x,data['data'][0][x]))\n",
    "#print(type(data['data'][0]['question']))\n",
    "print(data['data'][0]['question']['created'])\n",
    "tmp=data['data'][0]['question']['created']\n",
    "print (time.strftime(\"%b %d %Y %H:%M:%S\", time.gmtime(tmp)))"
   ]
  },
  {
   "cell_type": "markdown",
   "metadata": {},
   "source": [
    "### 2. 取出第一筆與最後一筆回答的時間"
   ]
  },
  {
   "cell_type": "code",
   "execution_count": 3,
   "metadata": {},
   "outputs": [
    {
     "name": "stdout",
     "output_type": "stream",
     "text": [
      "5\n",
      "created_time:May 14 2019 09:00:12 \n",
      "created_time:Oct 29 2019 03:07:06 \n"
     ]
    }
   ],
   "source": [
    "# 2. 取出第一筆與最後一筆回答的時間\n",
    "\n",
    "print(len(data['data']))\n",
    "listLen=len(data['data'])\n",
    "x='created_time'\n",
    "#print(\"{}:{} \".format(x,data['data'][0][x]))\n",
    "tmp=data['data'][0][x]\n",
    "print (\"{}:{} \".format(x,time.strftime(\"%b %d %Y %H:%M:%S\", time.gmtime(tmp))))\n",
    "#print(\"{}:{} \".format(x,data['data'][listLen-1][x]))\n",
    "tmp=data['data'][listLen-1][x]\n",
    "print (\"{}:{} \".format(x,time.strftime(\"%b %d %Y %H:%M:%S\", time.gmtime(tmp))))"
   ]
  },
  {
   "cell_type": "code",
   "execution_count": null,
   "metadata": {},
   "outputs": [],
   "source": []
  },
  {
   "cell_type": "code",
   "execution_count": null,
   "metadata": {},
   "outputs": [],
   "source": []
  },
  {
   "cell_type": "code",
   "execution_count": null,
   "metadata": {},
   "outputs": [],
   "source": []
  }
 ],
 "metadata": {
  "kernelspec": {
   "display_name": "Python 3",
   "language": "python",
   "name": "python3"
  },
  "language_info": {
   "codemirror_mode": {
    "name": "ipython",
    "version": 3
   },
   "file_extension": ".py",
   "mimetype": "text/x-python",
   "name": "python",
   "nbconvert_exporter": "python",
   "pygments_lexer": "ipython3",
   "version": "3.6.5"
  }
 },
 "nbformat": 4,
 "nbformat_minor": 2
}
