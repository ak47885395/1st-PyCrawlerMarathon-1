{
 "cells": [
  {
   "cell_type": "markdown",
   "metadata": {},
   "source": [
    "# 靜態網頁的資料爬蟲策略\n",
    "\n",
    "\n",
    "* 了解靜態網頁的資料爬蟲策略\n",
    "* 認識適用於靜態網頁爬蟲的相關套件工具：Request\n",
    "* 認識適用於靜態網頁爬蟲的相關套件工具：BeatifulSoup"
   ]
  },
  {
   "cell_type": "markdown",
   "metadata": {},
   "source": [
    "## 作業目標\n",
    "\n",
    "利用 Request + BeatifulSoup 爬取下列兩個網站內容並解析：\n",
    "\n",
    "1. Dcared 網址： https://www.dcard.tw/f\n",
    "2. 知乎： https://www.zhihu.com/explore\n",
    "\n",
    "並且回答下面問題：\n",
    "\n",
    "1. Request 取回之後該怎麼取出資料，資料型態是什麼？\n",
    "2. 為什麼要使用 BeatifulSoup 處理？處理後的型態是什麼？\n",
    "3. 觀察一下知乎回來的資料好像有點怪怪的，該怎麼解決？"
   ]
  },
  {
   "cell_type": "markdown",
   "metadata": {},
   "source": [
    "### 1. Dcard 網址： https://www.dcard.tw/f"
   ]
  },
  {
   "cell_type": "code",
   "execution_count": 2,
   "metadata": {},
   "outputs": [],
   "source": [
    "import requests\n",
    "from bs4 import BeautifulSoup\n"
   ]
  },
  {
   "cell_type": "code",
   "execution_count": 16,
   "metadata": {},
   "outputs": [
    {
     "name": "stdout",
     "output_type": "stream",
     "text": [
      "<!DOCTYPE html><html lang=\"zh-Hant-TW\"><head prefix=\"og: http://ogp.me/ns#\" itemscope=\"\" itemType=\"https://schema.org/WebSite\"><title data-react-helmet=\"true\">Dcard</title><meta data-react-helmet=\"true\" property=\"og:image\" content=\"https://www.dcard.tw/build/landing-c9e7b8fb.png\"/><meta data-react-helmet=\"true\" property=\"og:image:secure_url\" content=\"https://www.dcard.tw/build/landing-c9e7b8fb.png\"/><meta data-react-helmet=\"true\" charSet=\"utf-8\"/><meta data-react-helmet=\"true\" http-equiv=\"X-UA-Compatible\" content=\"IE=edge\"/><meta data-react-helmet=\"true\" name=\"application-name\" content=\"Dcard\"/><meta data-react-helmet=\"true\" name=\"apple-itunes-app\" content=\"app-id=951353454\"/><meta data-react-helmet=\"true\" name=\"theme-color\" content=\"#006aa6\"/><meta data-react-helmet=\"true\" name=\"mobile-web-app-capable\" content=\"yes\"/><meta data-react-helmet=\"true\" name=\"apple-mobile-web-app-capable\" content=\"yes\"/><meta data-react-helmet=\"true\" property=\"fb:app_id\" content=\"211628828926493\"/><meta data-react-helmet=\"true\" property=\"fb:pages\" content=\"178875832200695,577748865730563,1333515469994506,619122564952487,804004803032067,178024805867764\"/><meta data-react-helmet=\"true\" property=\"al:ios:app_store_id\" content=\"951353454\"/><meta data-react-helmet=\"true\" property=\"al:ios:app_name\" content=\"Dcard\"/><meta data-react-helmet=\"true\" property=\"al:android:package\" content=\"com.sparkslab.dcardreader\"/><meta data-react-helmet=\"true\" property=\"al:android:app_name\" content=\"Dcard\"/><meta data-react-helmet=\"true\" property=\"og:type\" content=\"website\"/><meta data-react-helmet=\"true\" property=\"og:site_name\" content=\"Dcard\"/><meta data-react-helmet=\"true\" property=\"og:title\" content=\"Dcard\"/><meta data-react-helmet=\"true\" property=\"og:url\" content=\"https://www.dcard.tw/f\"/><meta data-react-helmet=\"true\" name=\"description\" content=\"廣受年輕人喜愛的  Dcard  是台灣最大的匿名交流平台，舉凡時事話題、感情心情、吃喝玩樂、學習工作等，都有卡友陪你聊！\"/><meta data-react-helmet=\"true\" property=\"og:description\" content=\"廣受年輕人喜愛的  Dcard  是台灣最大的匿名交流平台，舉凡時事話題、感情心情、吃喝玩樂、學習工作等，都有卡友陪你聊！\"/><meta data-react-helmet=\"true\" property=\"al:ios:url\" content=\"dcard://category/all/全部/hot\"/><meta data-react-helmet=\"true\" property=\"al:android:url\" content=\"dcard://category/all/全部/hot\"/><link data-react-helmet=\"true\" rel=\"icon\" sizes=\"32x32\" type=\"image/png\" href=\"/build/favicon_32-44259074.png\"/><link data-react-helmet=\"true\" rel=\"icon\" sizes=\"72x72\" type=\"image/png\" href=\"/build/favicon_72-45b1e0ba.png\"/><link data-react-helmet=\"true\" rel=\"icon\" sizes=\"512x512\" type=\"image/png\" href=\"/build/favicon_512-8aee0703.png\"/><link data-react-helmet=\"true\" rel=\"apple-touch-icon-precomposed\" href=\"/build/favicon_144-79557003.png\"/><link data-react-helmet=\"true\" rel=\"apple-touch-icon-precomposed\" href=\"/build/favicon_114-4a463b43.png\"/><link data-react-helmet=\"true\" rel=\"apple-touch-icon-precomposed\" href=\"/build/favicon_72-45b1e0ba.png\"/><link data-react-helmet=\"true\" rel=\"apple-touch-icon-precomposed\" href=\"/build/favicon_57-835f1693.png\"/><link data-react-helm\n"
     ]
    }
   ],
   "source": [
    "url = 'https://www.dcard.tw/f'\n",
    "\n",
    "r = requests.get(url)\n",
    "\n",
    "r.encoding = 'utf-8'\n",
    "print(r.text[0:3000])"
   ]
  },
  {
   "cell_type": "code",
   "execution_count": 17,
   "metadata": {},
   "outputs": [
    {
     "name": "stdout",
     "output_type": "stream",
     "text": [
      "Request 取回之後該怎麼取出資料，資料型態是什麼？ =>\n",
      "<class 'str'>\n"
     ]
    }
   ],
   "source": [
    "print('Request 取回之後該怎麼取出資料，資料型態是什麼？ =>')\n",
    "\n",
    "response = r.text\n",
    "#print(response[0:3000])\n",
    "print(type(response))\n",
    "\n"
   ]
  },
  {
   "cell_type": "code",
   "execution_count": 18,
   "metadata": {},
   "outputs": [
    {
     "name": "stdout",
     "output_type": "stream",
     "text": [
      "為什麼要使用 BeatifulSoup 處理？處理後的型態是什麼？ => \n",
      "<class 'bs4.BeautifulSoup'>\n"
     ]
    }
   ],
   "source": [
    "print('為什麼要使用 BeatifulSoup 處理？處理後的型態是什麼？ => ')\n",
    "\n",
    "soup = BeautifulSoup(response, \"html5lib\")#lxml\n",
    "#print(soup)\n",
    "print(type(soup))"
   ]
  },
  {
   "cell_type": "code",
   "execution_count": 19,
   "metadata": {},
   "outputs": [
    {
     "name": "stdout",
     "output_type": "stream",
     "text": [
      "<class 'bs4.element.ResultSet'>\n",
      "你讓我活在電影裡\n",
      "日本IKEA鯊魚\n",
      "體會到有慾望卻無法滅掉的感覺(微西斯\n",
      "謝和弦再次吸毒遭老婆檢舉事件\n",
      "一早醒來看到壞消息\n",
      "偷偷進化的嘴笨男友\n",
      "【16歲那年，我得到了IELTS 7.0】(英文進步方法)\n",
      "（更）男友說我是普妹\n",
      "香蕉貼膠帶 藝術，收藏家出365萬\n",
      "我在火車上被攻擊\n",
      "2020來了，別再回頭2019\n",
      "什麼人吸引什麼人嗎？我的歷任男友共同點\n",
      "男友耳後粉刺（內有超療癒洞洞照）\n",
      "看完MAMA/MMA的想法\n",
      "柴犬\n",
      "是EXO變了 還是只是我不了解他們\n",
      "你們很棒 表演很精彩\n",
      "又再次被黑五燒到燙手的我😭\n",
      "一人份奶油菠菜鮭魚燉飯\n",
      "噁男才不知道自己是噁男\n"
     ]
    }
   ],
   "source": [
    "p=soup.find_all('a', class_='PostEntry_root_V6g0rd')\n",
    "print(type(p))\n",
    "\n",
    "for t in p:\n",
    "    ti=t.find('h3', class_='Title__Text-v196i6-0 gmfDU')\n",
    "    if(ti):\n",
    "        print(ti.text)"
   ]
  },
  {
   "cell_type": "markdown",
   "metadata": {},
   "source": [
    "### 2. 知乎： https://www.zhihu.com/explore"
   ]
  },
  {
   "cell_type": "code",
   "execution_count": 8,
   "metadata": {},
   "outputs": [
    {
     "name": "stdout",
     "output_type": "stream",
     "text": [
      "<html>\r\n",
      "<head><title>400 Bad Request</title></head>\r\n",
      "<body bgcolor=\"white\">\r\n",
      "<center><h1>400 Bad Request</h1></center>\r\n",
      "<hr><center>openresty</center>\r\n",
      "</body>\r\n",
      "</html>\r\n",
      "\n"
     ]
    }
   ],
   "source": [
    "url = 'https://www.zhihu.com/explore'\n",
    "r = requests.get(url)\n",
    "r.encoding = 'utf-8'\n",
    "\n",
    "print(r.text[0:600])"
   ]
  },
  {
   "cell_type": "markdown",
   "metadata": {},
   "source": [
    "### 3. 觀察一下知乎回來的資料好像有點怪怪的，該怎麼解決？"
   ]
  },
  {
   "cell_type": "code",
   "execution_count": 11,
   "metadata": {},
   "outputs": [
    {
     "name": "stdout",
     "output_type": "stream",
     "text": [
      "<!doctype html>\n",
      "<html lang=\"zh\" data-hairline=\"true\" data-theme=\"light\"><head><meta charSet=\"utf-8\"/><title data-react-helmet=\"true\">发现 - 知乎</title><meta name=\"viewport\" content=\"width=device-width,initial-scale=1,maximum-scale=1\"/><meta name=\"renderer\" content=\"webkit\"/><meta name=\"force-rendering\" content=\"webkit\"/><meta http-equiv=\"X-UA-Compatible\" content=\"IE=edge,chrome=1\"/><meta name=\"google-site-verification\" content=\"FTeR0c8arOPKh8c5DYh_9uu98_zJbaWw53J-Sch9MTg\"/><meta name=\"description\" property=\"og:description\" content=\"有问题，上知乎。知乎，可信赖的问答社区，以让每个人高效获得可信赖的解答为使命。知乎凭借认真、专业和友善的社区氛围，结构化、易获得的\n"
     ]
    }
   ],
   "source": [
    "import requests\n",
    "url = 'https://www.zhihu.com/explore'\n",
    "header = {'user-agent': 'test'}\n",
    "r = requests.get(url,headers=header)\n",
    "\n",
    "r.encoding = 'utf-8'\n",
    "print(r.text[0:600])"
   ]
  },
  {
   "cell_type": "code",
   "execution_count": 14,
   "metadata": {},
   "outputs": [
    {
     "name": "stdout",
     "output_type": "stream",
     "text": [
      "中超大结局，广州恒大豪夺第八冠\n",
      "向时间开杠，抗老当然有正确答案\n",
      "向上生活，渐入「家」境\n",
      "当「猝死」离我们越来越近\n"
     ]
    }
   ],
   "source": [
    "response=r.text\n",
    "soup = BeautifulSoup(response, \"html5lib\")\n",
    "#print(soup.prettify())\n",
    "titles=soup.find_all('a', class_='ExploreSpecialCard-title')\n",
    "for t in titles:\n",
    "    print(t.text)"
   ]
  },
  {
   "cell_type": "code",
   "execution_count": null,
   "metadata": {},
   "outputs": [],
   "source": []
  }
 ],
 "metadata": {
  "kernelspec": {
   "display_name": "Python 3",
   "language": "python",
   "name": "python3"
  },
  "language_info": {
   "codemirror_mode": {
    "name": "ipython",
    "version": 3
   },
   "file_extension": ".py",
   "mimetype": "text/x-python",
   "name": "python",
   "nbconvert_exporter": "python",
   "pygments_lexer": "ipython3",
   "version": "3.6.5"
  }
 },
 "nbformat": 4,
 "nbformat_minor": 2
}
