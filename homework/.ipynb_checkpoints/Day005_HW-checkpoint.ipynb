{
 "cells": [
  {
   "cell_type": "markdown",
   "metadata": {},
   "source": [
    "# API 資料串接 - 以 Dcard API 實作範例\n",
    "\n",
    "* 利用 urllib 套件的 urlretrieve 方法下載檔案\n",
    "* 了解 Python File I/O 讀檔、寫檔的用法\n",
    "* 能用運用資源管理器 With Statement 優化寫法"
   ]
  },
  {
   "cell_type": "markdown",
   "metadata": {},
   "source": [
    "## 作業目標\n",
    "\n",
    "* 請利用 API: https://www.dcard.tw/_api/forums/pet/posts?popular=true 回答下列問題：\n",
    "\n",
    "1. 這個 API 一次會回傳幾筆資料？每一筆資料包含哪些欄位？\n",
    "2. 取出每一筆資料的「標題」、「貼文時間」、「留言人數」、「按讚人數」\n",
    "3. 計算熱門/非熱門文章的「平均留言人數」與「平均按讚人數」"
   ]
  },
  {
   "cell_type": "code",
   "execution_count": 1,
   "metadata": {},
   "outputs": [
    {
     "name": "stdout",
     "output_type": "stream",
     "text": [
      "30\n",
      "id\n",
      "title\n",
      "excerpt\n",
      "anonymousSchool\n",
      "anonymousDepartment\n",
      "pinned\n",
      "forumId\n",
      "replyId\n",
      "createdAt\n",
      "updatedAt\n",
      "commentCount\n",
      "likeCount\n",
      "withNickname\n",
      "tags\n",
      "topics\n",
      "meta\n",
      "forumName\n",
      "forumAlias\n",
      "gender\n",
      "school\n",
      "department\n",
      "replyTitle\n",
      "mediaMeta\n",
      "reactions\n",
      "hidden\n",
      "customStyle\n",
      "isSuspiciousAccount\n",
      "layout\n",
      "withImages\n",
      "withVideos\n",
      "media\n",
      "reportReasonText\n",
      "postAvatar\n"
     ]
    }
   ],
   "source": [
    "# 1. 這個 API 一次會回傳幾筆資料？每一筆資料包含哪些欄位？\n",
    "import json\n",
    "import requests\n",
    "r=requests.get('https://www.dcard.tw/_api/forums/pet/posts?popular=true')\n",
    "response=r.text\n",
    "data=json.loads(response)\n",
    "num=len(data)\n",
    "print(num)\n",
    "\n",
    "for i in data[0]:\n",
    "    print(i)"
   ]
  },
  {
   "cell_type": "code",
   "execution_count": 3,
   "metadata": {},
   "outputs": [
    {
     "name": "stdout",
     "output_type": "stream",
     "text": [
      "標題:找回失蹤狗狗😭 原來妳也在找我們 貼文時間:2019-11-29T22:33:34.440Z 留言人數:113 按讚人數:5662 \n",
      "標題:我家的貓每天睡覺前一定會做的事 貼文時間:2019-11-30T06:52:29.882Z 留言人數:32 按讚人數:678 \n",
      "標題:被擠床原來是一件幸福的事 貼文時間:2019-11-30T04:15:42.699Z 留言人數:7 按讚人數:214 \n",
      "標題:有貓快拜！！ 貼文時間:2019-11-30T03:07:22.599Z 留言人數:3 按讚人數:85 \n",
      "標題:媽 晚餐好了沒 貼文時間:2019-11-30T10:42:58.582Z 留言人數:2 按讚人數:82 \n",
      "標題:#哈士奇 滿一歲啦 文長 滿滿的二哈 貼文時間:2019-11-30T16:30:51.154Z 留言人數:8 按讚人數:72 \n",
      "標題:有人要吸兔嗎？ 貼文時間:2019-11-30T04:58:10.195Z 留言人數:18 按讚人數:72 \n",
      "標題:你到底是貓還是狗？ 貼文時間:2019-11-30T14:32:06.500Z 留言人數:1 按讚人數:27 \n",
      "標題:白圍巾白手套橘貓❤️ 貼文時間:2019-11-30T07:44:14.420Z 留言人數:6 按讚人數:23 \n",
      "標題:#柴 #影片 到底有多討厭洗澡 貼文時間:2019-11-30T03:24:55.897Z 留言人數:1 按讚人數:22 \n",
      "標題:從沒想過山竹可以這麼可口ฅ 貼文時間:2019-11-30T10:24:08.529Z 留言人數:5 按讚人數:19 \n",
      "標題:我不是貓 我是兔子 貼文時間:2019-11-30T11:16:53.115Z 留言人數:1 按讚人數:18 \n",
      "標題:我家阿咪的特技 貼文時間:2019-11-30T18:43:59.640Z 留言人數:3 按讚人數:15 \n",
      "標題:自嗨小橘貓 貼文時間:2019-11-30T20:21:16.782Z 留言人數:1 按讚人數:14 \n",
      "標題:就算之後天天吃泡麵也要救活妳 貼文時間:2019-11-30T11:59:28.473Z 留言人數:0 按讚人數:14 \n",
      "標題:四個月的布偶屁貓 貼文時間:2019-11-30T11:24:26.047Z 留言人數:1 按讚人數:14 \n",
      "標題:你一定要這樣厭世嗎 貼文時間:2019-11-30T13:05:07.439Z 留言人數:0 按讚人數:13 \n",
      "標題:#貓咪 十隻白貓九隻胖 貼文時間:2019-11-30T15:24:46.075Z 留言人數:6 按讚人數:12 \n",
      "標題:急尋愛貓一隻🙏🙏 貼文時間:2019-11-30T13:31:14.399Z 留言人數:2 按讚人數:12 \n",
      "標題:#貓 #影 #圖 不只慢半拍ㄉ音癡（？ 貼文時間:2019-11-30T08:14:35.514Z 留言人數:1 按讚人數:12 \n",
      "標題:我家貓咪真可愛♥️♥️ 貼文時間:2019-11-30T06:31:53.631Z 留言人數:6 按讚人數:12 \n",
      "標題:原來柴犬可以那麽可愛🐕 貼文時間:2019-11-30T17:17:51.628Z 留言人數:1 按讚人數:11 \n",
      "標題:小寶貝 貼文時間:2019-11-30T16:01:13.979Z 留言人數:0 按讚人數:10 \n",
      "標題:請問⋯妳是在哈囉？ 貼文時間:2019-11-30T19:16:39.494Z 留言人數:2 按讚人數:9 \n",
      "標題:這個哈欠... 貼文時間:2019-11-30T02:20:59.472Z 留言人數:2 按讚人數:9 \n",
      "標題:白貓是不是很白目？ 貼文時間:2019-11-30T12:47:15.519Z 留言人數:4 按讚人數:8 \n",
      "標題:#好想知道妳在想什麼 貼文時間:2019-11-30T12:44:17.260Z 留言人數:1 按讚人數:7 \n",
      "標題:如何虐鼠？ 貼文時間:2019-11-30T13:01:41.744Z 留言人數:4 按讚人數:6 \n",
      "標題:哪個比較可愛 貼文時間:2019-11-30T12:21:43.545Z 留言人數:1 按讚人數:6 \n",
      "標題:呆萌的小寵物-鬥魚 貼文時間:2019-11-29T23:12:21.884Z 留言人數:1 按讚人數:6 \n"
     ]
    }
   ],
   "source": [
    "# 2. 取出每一筆資料的「標題」、「貼文時間」、「留言人數」、「按讚人數」\n",
    "\n",
    "for i in range(num):\n",
    "    print(\"標題:{} 貼文時間:{} 留言人數:{} 按讚人數:{} \".format(data[i]['title'],data[i]['createdAt'],data[i]['commentCount'],data[i]['likeCount']))"
   ]
  },
  {
   "cell_type": "code",
   "execution_count": 2,
   "metadata": {},
   "outputs": [
    {
     "name": "stdout",
     "output_type": "stream",
     "text": [
      "熱門 留言人數7.766666666666667/按讚人數238.8\n",
      "非熱門 留言人數1.6/按讚人數7.866666666666666\n"
     ]
    }
   ],
   "source": [
    "# 3. 計算熱門/非熱門文章的「平均留言人數」與「平均按讚人數」\n",
    "\n",
    "r=requests.get('https://www.dcard.tw/_api/forums/pet/posts?popular=true')\n",
    "response=r.text\n",
    "pop=json.loads(response)\n",
    "r=requests.get('https://www.dcard.tw/_api/forums/pet/posts?popular=false')\n",
    "response=r.text\n",
    "non_pop=json.loads(response)\n",
    "\n",
    "popcomment=0\n",
    "poplike=0\n",
    "popnum=0\n",
    "non_popcomment=0\n",
    "non_poplike=0\n",
    "non_popnum=0\n",
    "for i in pop:\n",
    "    popcomment=popcomment+i['commentCount']\n",
    "    poplike=poplike+i['likeCount']\n",
    "    popnum=popnum+1\n",
    "\n",
    "for i in non_pop:\n",
    "    non_popcomment=non_popcomment+i['commentCount']\n",
    "    non_poplike=non_poplike+i['likeCount']\n",
    "    non_popnum=non_popnum+1   \n",
    "\n",
    "print(\"熱門 留言人數{}/按讚人數{}\".format(popcomment/popnum,poplike/popnum))\n",
    "print(\"非熱門 留言人數{}/按讚人數{}\".format(non_popcomment/non_popnum,non_poplike/non_popnum))"
   ]
  },
  {
   "cell_type": "code",
   "execution_count": null,
   "metadata": {},
   "outputs": [],
   "source": []
  },
  {
   "cell_type": "code",
   "execution_count": null,
   "metadata": {},
   "outputs": [],
   "source": []
  }
 ],
 "metadata": {
  "kernelspec": {
   "display_name": "Python 3",
   "language": "python",
   "name": "python3"
  },
  "language_info": {
   "codemirror_mode": {
    "name": "ipython",
    "version": 3
   },
   "file_extension": ".py",
   "mimetype": "text/x-python",
   "name": "python",
   "nbconvert_exporter": "python",
   "pygments_lexer": "ipython3",
   "version": "3.6.5"
  }
 },
 "nbformat": 4,
 "nbformat_minor": 2
}
