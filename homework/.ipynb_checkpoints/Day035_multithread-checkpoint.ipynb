{
 "cells": [
  {
   "cell_type": "markdown",
   "metadata": {},
   "source": [
    "# 加速：多線程爬蟲\n",
    "\n",
    "\n",
    "\n",
    "* 了解知乎 API 使用方式與回傳內容\n",
    "* 撰寫程式存取 API 且添加標頭"
   ]
  },
  {
   "cell_type": "markdown",
   "metadata": {},
   "source": [
    "## 作業目標\n",
    "\n",
    "* 找一個之前實作過的爬蟲改用多線程改寫，比較前後時間的差異。\n",
    "\n",
    "\n",
    "\n"
   ]
  },
  {
   "cell_type": "code",
   "execution_count": 1,
   "metadata": {},
   "outputs": [],
   "source": [
    "#https://blog.gtwang.org/programming/python-threading-multithreaded-programming-tutorial/"
   ]
  },
  {
   "cell_type": "code",
   "execution_count": 54,
   "metadata": {},
   "outputs": [],
   "source": [
    "import time\n",
    "import requests\n",
    "from bs4 import BeautifulSoup\n",
    "import _thread\n",
    "import _thread\n",
    "import time\n",
    "job_104_url = \"https://www.104.com.tw/cust/list/index/?page=1&order=1&mode=s&jobsource=checkc&area=6001001000&indcat=1001002000\""
   ]
  },
  {
   "cell_type": "code",
   "execution_count": 55,
   "metadata": {},
   "outputs": [
    {
     "name": "stdout",
     "output_type": "stream",
     "text": [
      "7\n",
      "1\n",
      "https://www.104.com.tw/cust/list/index/?page=1&area=6001001000&indcat=1001002000&order=1&mode=s&jobsource=checkc\n",
      "2\n",
      "https://www.104.com.tw/cust/list/index/?page=2&area=6001001000&indcat=1001002000&order=1&mode=s&jobsource=checkc\n",
      "3\n",
      "https://www.104.com.tw/cust/list/index/?page=3&area=6001001000&indcat=1001002000&order=1&mode=s&jobsource=checkc\n",
      "4\n",
      "https://www.104.com.tw/cust/list/index/?page=4&area=6001001000&indcat=1001002000&order=1&mode=s&jobsource=checkc\n",
      "5\n",
      "https://www.104.com.tw/cust/list/index/?page=5&area=6001001000&indcat=1001002000&order=1&mode=s&jobsource=checkc\n",
      "6\n",
      "https://www.104.com.tw/cust/list/index/?page=6&area=6001001000&indcat=1001002000&order=1&mode=s&jobsource=checkc\n",
      "7\n",
      "https://www.104.com.tw/cust/list/index/?page=7&area=6001001000&indcat=1001002000&order=1&mode=s&jobsource=checkc\n",
      "['https://www.104.com.tw/cust/list/index/?page=1&area=6001001000&indcat=1001002000&order=1&mode=s&jobsource=checkc', 'https://www.104.com.tw/cust/list/index/?page=2&area=6001001000&indcat=1001002000&order=1&mode=s&jobsource=checkc', 'https://www.104.com.tw/cust/list/index/?page=3&area=6001001000&indcat=1001002000&order=1&mode=s&jobsource=checkc', 'https://www.104.com.tw/cust/list/index/?page=4&area=6001001000&indcat=1001002000&order=1&mode=s&jobsource=checkc', 'https://www.104.com.tw/cust/list/index/?page=5&area=6001001000&indcat=1001002000&order=1&mode=s&jobsource=checkc', 'https://www.104.com.tw/cust/list/index/?page=6&area=6001001000&indcat=1001002000&order=1&mode=s&jobsource=checkc', 'https://www.104.com.tw/cust/list/index/?page=7&area=6001001000&indcat=1001002000&order=1&mode=s&jobsource=checkc']\n"
     ]
    }
   ],
   "source": [
    "resp = requests.get(job_104_url)\n",
    "resp.encoding = 'utf-8'\n",
    "# print(resp.text)  # 如有需要，列印出網頁原始碼\n",
    "\n",
    "html = BeautifulSoup(resp.text, \"lxml\")\n",
    "page_total = html.find(name='div', attrs={'class':'page-total'})\n",
    "print(page_total['data-total'])\n",
    "numpages=page_total['data-total']\n",
    "weblist=[]\n",
    "for i in range(1,8):\n",
    "    print('{}'.format(i))\n",
    "    web='https://www.104.com.tw/cust/list/index/?page={}&area=6001001000&indcat=1001002000&order=1&mode=s&jobsource=checkc'.format(i)\n",
    "    print(web)\n",
    "    weblist.append(web)\n",
    "print(weblist)"
   ]
  },
  {
   "cell_type": "code",
   "execution_count": 50,
   "metadata": {},
   "outputs": [],
   "source": [
    "def print_time(web):\n",
    "    resp = requests.get(web)\n",
    "    html = BeautifulSoup(resp.text, \"lxml\")\n",
    "    company_list = html.find(\"div\", attrs={'id':\"company-result\"}).find_all(\"article\", attrs={'class':\"items\"})\n",
    "    #time.sleep(3)\n",
    "    print(web)\n",
    "    "
   ]
  },
  {
   "cell_type": "code",
   "execution_count": 57,
   "metadata": {},
   "outputs": [
    {
     "name": "stdout",
     "output_type": "stream",
     "text": [
      "https://www.104.com.tw/cust/list/index/?page=1&area=6001001000&indcat=1001002000&order=1&mode=s&jobsource=checkc\n",
      "https://www.104.com.tw/cust/list/index/?page=2&area=6001001000&indcat=1001002000&order=1&mode=s&jobsource=checkc\n",
      "https://www.104.com.tw/cust/list/index/?page=3&area=6001001000&indcat=1001002000&order=1&mode=s&jobsource=checkc\n",
      "https://www.104.com.tw/cust/list/index/?page=4&area=6001001000&indcat=1001002000&order=1&mode=s&jobsource=checkc\n",
      "https://www.104.com.tw/cust/list/index/?page=5&area=6001001000&indcat=1001002000&order=1&mode=s&jobsource=checkc\n",
      "https://www.104.com.tw/cust/list/index/?page=6&area=6001001000&indcat=1001002000&order=1&mode=s&jobsource=checkc\n",
      "https://www.104.com.tw/cust/list/index/?page=7&area=6001001000&indcat=1001002000&order=1&mode=s&jobsource=checkc\n",
      "3.180295467376709\n"
     ]
    }
   ],
   "source": [
    "startTime = time.time()\n",
    "\n",
    "for web in weblist:\n",
    "    #resp = requests.get(web)\n",
    "    #html = BeautifulSoup(resp.text, \"lxml\")\n",
    "    #company_list = html.find(\"div\", attrs={'id':\"company-result\"}).find_all(\"article\", attrs={'class':\"items\"})\n",
    "    #print(company_list)\n",
    "    print_time(web)\n",
    "finishTime = time.time()\n",
    "print(finishTime - startTime)"
   ]
  },
  {
   "cell_type": "code",
   "execution_count": 49,
   "metadata": {},
   "outputs": [
    {
     "name": "stdout",
     "output_type": "stream",
     "text": [
      "0.0010006427764892578\n",
      "https://www.104.com.tw/cust/list/index/?page=3&area=6001001000&indcat=1001002000&order=1&mode=s&jobsource=checkc\n",
      "https://www.104.com.tw/cust/list/index/?page=1&area=6001001000&indcat=1001002000&order=1&mode=s&jobsource=checkc\n",
      "https://www.104.com.tw/cust/list/index/?page=2&area=6001001000&indcat=1001002000&order=1&mode=s&jobsource=checkc\n",
      "https://www.104.com.tw/cust/list/index/?page=6&area=6001001000&indcat=1001002000&order=1&mode=s&jobsource=checkc\n",
      "https://www.104.com.tw/cust/list/index/?page=7&area=6001001000&indcat=1001002000&order=1&mode=s&jobsource=checkc\n",
      "https://www.104.com.tw/cust/list/index/?page=5&area=6001001000&indcat=1001002000&order=1&mode=s&jobsource=checkc\n",
      "https://www.104.com.tw/cust/list/index/?page=4&area=6001001000&indcat=1001002000&order=1&mode=s&jobsource=checkc\n"
     ]
    }
   ],
   "source": [
    "startTime = time.time()\n",
    "\n",
    "for web in weblist:\n",
    "    _thread.start_new_thread( print_time, (web, ) )\n",
    "    #print(web)\n",
    "    \n",
    "\n",
    "finishTime = time.time()\n",
    "print(finishTime - startTime)\n",
    "        "
   ]
  },
  {
   "cell_type": "code",
   "execution_count": 56,
   "metadata": {},
   "outputs": [
    {
     "name": "stdout",
     "output_type": "stream",
     "text": [
      "https://www.104.com.tw/cust/list/index/?page=7&area=6001001000&indcat=1001002000&order=1&mode=s&jobsource=checkc\n",
      "https://www.104.com.tw/cust/list/index/?page=3&area=6001001000&indcat=1001002000&order=1&mode=s&jobsource=checkc\n",
      "https://www.104.com.tw/cust/list/index/?page=1&area=6001001000&indcat=1001002000&order=1&mode=s&jobsource=checkc\n",
      "https://www.104.com.tw/cust/list/index/?page=5&area=6001001000&indcat=1001002000&order=1&mode=s&jobsource=checkc\n",
      "https://www.104.com.tw/cust/list/index/?page=2&area=6001001000&indcat=1001002000&order=1&mode=s&jobsource=checkc\n",
      "https://www.104.com.tw/cust/list/index/?page=6&area=6001001000&indcat=1001002000&order=1&mode=s&jobsource=checkc\n",
      "https://www.104.com.tw/cust/list/index/?page=4&area=6001001000&indcat=1001002000&order=1&mode=s&jobsource=checkc\n",
      "1.8456099033355713\n"
     ]
    }
   ],
   "source": [
    "from threading import Thread\n",
    "threads = []\n",
    "startTime = time.time()\n",
    "\n",
    "for web in weblist:\n",
    "    t = Thread(target=print_time, args=(web, ))\n",
    "    t.start()\n",
    "    threads.append(t)\n",
    "\n",
    "# join all threads\n",
    "for t in threads:\n",
    "    t.join()\n",
    "finishTime = time.time()\n",
    "print(finishTime - startTime)\n",
    "        "
   ]
  },
  {
   "cell_type": "code",
   "execution_count": null,
   "metadata": {},
   "outputs": [],
   "source": []
  }
 ],
 "metadata": {
  "colab": {
   "name": "homework.ipynb",
   "provenance": []
  },
  "kernelspec": {
   "display_name": "Python 3",
   "language": "python",
   "name": "python3"
  },
  "language_info": {
   "codemirror_mode": {
    "name": "ipython",
    "version": 3
   },
   "file_extension": ".py",
   "mimetype": "text/x-python",
   "name": "python",
   "nbconvert_exporter": "python",
   "pygments_lexer": "ipython3",
   "version": "3.6.5"
  }
 },
 "nbformat": 4,
 "nbformat_minor": 1
}
