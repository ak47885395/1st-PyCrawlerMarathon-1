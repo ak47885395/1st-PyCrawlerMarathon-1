{
 "cells": [
  {
   "cell_type": "markdown",
   "metadata": {},
   "source": [
    "# 空氣污染監測網 網路爬蟲實作練習\n",
    "\n",
    "\n",
    "* 能夠利用 selenium + BeautifulSoup 撰寫爬蟲，並存放到合適的資料結構\n"
   ]
  },
  {
   "cell_type": "markdown",
   "metadata": {},
   "source": [
    "## 作業目標\n",
    "\n",
    "根據範例 ，完成以下問題：\n",
    "\n",
    "* ① 取出 台北市士林區 2018/01 – 2018/08 的 SO2 資料\n",
    "* ② 取出 台北市士林區 2018/01 – 2018/08 的 SO2、CO 資料\n",
    "\n",
    "\n",
    "\n"
   ]
  },
  {
   "cell_type": "markdown",
   "metadata": {},
   "source": [
    "### ① 取出 台北市士林區 2018/01 – 2018/08 的 SO2 資料"
   ]
  },
  {
   "cell_type": "code",
   "execution_count": 1,
   "metadata": {},
   "outputs": [],
   "source": [
    "from selenium import webdriver\n",
    "from selenium.webdriver.support.ui import Select\n",
    "from bs4 import BeautifulSoup\n",
    "browser = webdriver.Chrome(executable_path='chromedriver')\n",
    "browser.get(\"http://taqm.epa.gov.tw/taqm/tw/MonthlyAverage.aspx\")"
   ]
  },
  {
   "cell_type": "code",
   "execution_count": 2,
   "metadata": {},
   "outputs": [],
   "source": [
    "selectSite = Select(browser.find_element_by_id('ctl05_ddlSite'))\n",
    "selectSite.select_by_value('11')\n",
    "selectYear = Select(browser.find_element_by_id('ctl05_ddlYear'))\n",
    "selectYear.select_by_value('2018')\n",
    "browser.find_element_by_id('ctl05_btnQuery').click()"
   ]
  },
  {
   "cell_type": "code",
   "execution_count": 7,
   "metadata": {},
   "outputs": [
    {
     "name": "stdout",
     "output_type": "stream",
     "text": [
      "{'class': ['no-alt'], 'rowspan': '12', 'valign': 'top', 'style': 'white-space:nowrap;'}\n",
      "{'class': ['no-alt'], 'rowspan': '12', 'valign': 'top', 'style': 'white-space:nowrap;'}\n",
      "{'class': ['no-alt'], 'rowspan': '12', 'valign': 'top', 'style': 'white-space:nowrap;'}\n",
      "{'class': ['no-alt'], 'rowspan': '12', 'valign': 'top', 'style': 'white-space:nowrap;'}\n",
      "{'class': ['no-alt'], 'rowspan': '12', 'valign': 'top', 'style': 'white-space:nowrap;'}\n",
      "{'class': ['no-alt'], 'rowspan': '12', 'valign': 'top', 'style': 'white-space:nowrap;'}\n",
      "{'class': ['no-alt'], 'rowspan': '12', 'valign': 'top', 'style': 'white-space:nowrap;'}\n",
      "{'class': ['no-alt'], 'rowspan': '1', 'valign': 'top', 'style': 'white-space:nowrap;'}\n",
      "{'class': ['no-alt'], 'rowspan': '1', 'valign': 'top', 'style': 'white-space:nowrap;'}\n",
      "{'style': 'white-space:nowrap;'}\n",
      "{'2018/01': '1.80', '2018/02': '1.90', '2018/03': '2.20', '2018/04': '2.30', '2018/05': '3.10', '2018/06': '2.70', '2018/07': '2.20', '2018/08': '2.40', '2018/09': '2.10', '2018/10': '1.70', '2018/11': '1.90', '2018/12': '1.80'}\n",
      "1.80\n",
      "1.90\n",
      "2.20\n",
      "2.30\n",
      "3.10\n",
      "2.70\n",
      "2.20\n",
      "2.40\n"
     ]
    }
   ],
   "source": [
    "html_source = browser.page_source\n",
    "\n",
    "soup = BeautifulSoup(html_source, 'html.parser')\n",
    "table = soup.find('table', class_='TABLE_G')\n",
    "#print(table)\n",
    "dic={}\n",
    "for tab in table.find_all('td'):\n",
    "    #print(len(tab.attrs))\n",
    "    #tab.attrs['style']和tab['style']都可以,前者當作dict,後者當作bs4.element.Tag\n",
    "    #https://stackoverflow.com/questions/1602934/check-if-a-given-key-already-exists-in-a-dictionary\n",
    "    #https://wiki.jikexueyuan.com/project/python-crawler-guide/beautiful-soup.html\n",
    "    if('style' in  tab.attrs and tab.attrs['style']==\"white-space:nowrap;\"):\n",
    "        print(tab.attrs)\n",
    "        air=tab.text\n",
    "        dic[air]={}\n",
    "        count=0\n",
    "    if(tab.text=='\\xa0' or len(tab.attrs)!=0):\n",
    "        continue\n",
    "    if count%2==0:\n",
    "        date=tab.text\n",
    "        dic[air][date]={}\n",
    "        count+=1\n",
    "    elif count%2==1:\n",
    "        ppm=tab.text\n",
    "        dic[air][date]=ppm\n",
    "        count+=1\n",
    "#print(dic)\n",
    "print(dic['SO2'])\n",
    "for i in range(1,9):\n",
    "    date='2018/0'+str(i)\n",
    "    print(dic['SO2'][date])"
   ]
  },
  {
   "cell_type": "markdown",
   "metadata": {},
   "source": [
    "### ② 取出 台北市士林區 2018/01 – 2018/08 的 SO2、CO 資料"
   ]
  },
  {
   "cell_type": "code",
   "execution_count": 51,
   "metadata": {},
   "outputs": [
    {
     "name": "stdout",
     "output_type": "stream",
     "text": [
      "{'2018/01': '1.80', '2018/02': '1.90', '2018/03': '2.20', '2018/04': '2.30', '2018/05': '3.10', '2018/06': '2.70', '2018/07': '2.20', '2018/08': '2.40', '2018/09': '2.10', '2018/10': '1.70', '2018/11': '1.90', '2018/12': '1.80'}\n",
      "{'2018/01': '0.34', '2018/02': '0.44', '2018/03': '0.40', '2018/04': '0.38', '2018/05': '0.34', '2018/06': '0.29', '2018/07': '0.21', '2018/08': '0.30', '2018/09': '0.26', '2018/10': '0.29', '2018/11': '0.30', '2018/12': '0.35'}\n",
      "1.80\n",
      "1.90\n",
      "2.20\n",
      "2.30\n",
      "3.10\n",
      "2.70\n",
      "2.20\n",
      "2.40\n",
      "0.34\n",
      "0.44\n",
      "0.40\n",
      "0.38\n",
      "0.34\n",
      "0.29\n",
      "0.21\n",
      "0.30\n"
     ]
    }
   ],
   "source": [
    "print(dic['SO2'])\n",
    "print(dic['CO'])\n",
    "for i in range(1,9):\n",
    "    date='2018/0'+str(i)\n",
    "    print(dic['SO2'][date])\n",
    "for i in range(1,9):\n",
    "    date='2018/0'+str(i)\n",
    "    print(dic['CO'][date])"
   ]
  },
  {
   "cell_type": "code",
   "execution_count": null,
   "metadata": {},
   "outputs": [],
   "source": []
  }
 ],
 "metadata": {
  "kernelspec": {
   "display_name": "Python 3",
   "language": "python",
   "name": "python3"
  },
  "language_info": {
   "codemirror_mode": {
    "name": "ipython",
    "version": 3
   },
   "file_extension": ".py",
   "mimetype": "text/x-python",
   "name": "python",
   "nbconvert_exporter": "python",
   "pygments_lexer": "ipython3",
   "version": "3.6.5"
  }
 },
 "nbformat": 4,
 "nbformat_minor": 2
}
