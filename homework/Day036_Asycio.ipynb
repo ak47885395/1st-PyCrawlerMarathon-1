{
 "cells": [
  {
   "cell_type": "markdown",
   "metadata": {},
   "source": [
    "# 加速：非同步爬蟲\n",
    "\n",
    "* 了解非同步爬蟲加速原理與實作"
   ]
  },
  {
   "cell_type": "markdown",
   "metadata": {},
   "source": [
    "## 作業目標\n",
    "\n",
    "* 比較一下非同步爬蟲跟多線程爬蟲的差異是什麼？各自的優缺點為何？"
   ]
  },
  {
   "cell_type": "markdown",
   "metadata": {
    "scrolled": true
   },
   "source": [
    "#https://ithelp.ithome.com.tw/articles/10199408\n",
    "\n",
    "所謂的非同步技術，指得是我們每發出一個requests都要等待server端的回應，\n",
    "而非同步技術可以充分利用這個等待時間，同時再發出其他requests，\n",
    "直到server成功回應時，才開始用同一個執行緒出處理回應回來的資料。\n",
    "必須注意的是，他並不會占用到多的CPU核心數，只是充分利用在同一個核心上的運算量而已。\n",
    "多執行緒在做的實情使用多個CPU核心去處理事情，\n",
    "假設CPU核心不夠，硬是將執行緒的數量開的比核心數多，\n",
    "將可能會被強制終止某些執行緒。"
   ]
  },
  {
   "cell_type": "markdown",
   "metadata": {},
   "source": [
    "從收到response到發送request的時間間隔非常短，連千分之一秒都不到，而反之，發送request到收到response的時間卻長很多，\n",
    "\n",
    "當程式接收到網路來的response到繼續發送下一個request，中間所需要的時間就只是讓CPU去執行下一個python指令，但是發送request之後，到接收到response中間是需要等待網路另一端的server去回傳response，所需時間當然要長多了。\n",
    "\n",
    "而這段等待sever回傳response的過程，就是io調度的過程，但這過程若要讓CPU掛在一旁等待，實在是太浪費時間了，所以才會引入異步執行的programing方式，讓io調度的過程中，程式不會掛在一旁等待，而是繼續執行下一條指令。"
   ]
  },
  {
   "cell_type": "code",
   "execution_count": null,
   "metadata": {},
   "outputs": [],
   "source": []
  }
 ],
 "metadata": {
  "colab": {
   "name": "homework.ipynb",
   "provenance": []
  },
  "kernelspec": {
   "display_name": "Python 3",
   "language": "python",
   "name": "python3"
  },
  "language_info": {
   "codemirror_mode": {
    "name": "ipython",
    "version": 3
   },
   "file_extension": ".py",
   "mimetype": "text/x-python",
   "name": "python",
   "nbconvert_exporter": "python",
   "pygments_lexer": "ipython3",
   "version": "3.6.5"
  }
 },
 "nbformat": 4,
 "nbformat_minor": 1
}
