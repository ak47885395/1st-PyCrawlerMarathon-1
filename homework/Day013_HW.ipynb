{
 "cells": [
  {
   "cell_type": "markdown",
   "metadata": {},
   "source": [
    "# PTT 網路爬蟲實作練習\n",
    "\n",
    "\n",
    "* 能夠利用 Request + BeatifulSour 撰寫爬蟲，並存放到合適的資料結構\n"
   ]
  },
  {
   "cell_type": "markdown",
   "metadata": {},
   "source": [
    "## 作業目標\n",
    "\n",
    "根據範例 ，完成以下問題：\n",
    "\n",
    "* ① 印出最新文章的「作者」「標題」「時間」\n",
    "* ② 印出第一頁所有文章的「作者」「標題」「時間」\n"
   ]
  },
  {
   "cell_type": "code",
   "execution_count": 94,
   "metadata": {},
   "outputs": [
    {
     "name": "stdout",
     "output_type": "stream",
     "text": [
      "[花邊] 字母哥和Lopez賽前摔角\n",
      "[新聞] 詹皇回熱火被狂噓半場7失誤　末節創造20\n",
      "[BOX ] Clippers 124:117 Timberwolves 數據\n",
      "[情報] John Wall母親過世\n",
      "[BOX ] Knicks 103:101 Kings 數據\n",
      "[討論] 現在哪隊的氣氛最好？\n",
      "Re: [BOX ] Clippers 124:117 Timberwolves 數據\n",
      "[討論] 我哥與濕婆的大師過招\n",
      "[情報] PG：快艇與我待過的所有球隊都很不同，\n",
      "[出售] 2020/1/2 活塞@快艇 Staple center prem\n",
      "[情報] 喬治談被噓：事情未按球迷的預期發展時，\n",
      "[新聞] 勇士早不在爭冠行列 柯爾：訓練營時就有預感\n",
      "[情報] LBJ：希望Butler投丟最後一球，因為我們\n",
      "[花邊] 講到本季不開心的事 LBJ:看不到兒子比賽\n",
      "[新聞] 字母哥率公鹿豪取17連勝　距離隊史紀錄只\n",
      "[情報] 巴特勒：今日比賽讓我們知道還不是頂級球\n",
      "[公告] 板規v6.6\n",
      "[公告] 樂透取消及未來不再開啟樂透\n",
      "[公告] 版主上任相關事項 \n",
      "[情報] SEASON Schedule 賽程 December 19–20\n",
      "[公告]是否禁止basketball top 5文章投票開始 \n",
      "{'作者': ['HEHEHEHEHE (ㄏㄧㄏㄧㄏ一)', 's66449 (老實樣)', 'brian199524 (brian199524)', 'Ayanami5566 (綾波五六)', 'TheOneisNEO (Thomas Anderson)', 'humbler (獸人H)', 'youhow0418 (ㄈ87b3)', 'hhje (天烏烏)', 'jk182325 (萬里花我老婆)', 'LinBaoYan (負酬者聯盟)', 'NSYSUheng (Pain)', 'pneumo (超☆冒險蓋)', 'fukawa947 (交大薛之謙)', 'la1aco (lalaco)', 'Vedan (味丹)', 'qazwsx879345 (Rajon Rondo)', 'JerroLi (銀色小刀)', 'dragon803 (好想去露營啊~)'], '看板': ['NBA', 'NBA', 'NBA', 'NBA', 'NBA', 'NBA', 'NBA', 'NBA', 'NBA', 'NBA', 'NBA', 'NBA', 'NBA', 'NBA', 'NBA', 'NBA', 'NBA', 'NBA'], '標題': ['[花邊] 字母哥和Lopez賽前摔角', '[新聞] 詹皇回熱火被狂噓半場7失誤\\u3000末節創造20', '[情報] John Wall母親過世', '[討論] 現在哪隊的氣氛最好？', 'Re: [BOX ] Clippers 124:117 Timberwolves 數據', '[討論] 我哥與濕婆的大師過招', '[情報] PG：快艇與我待過的所有球隊都很不同，', '[出售] 2020/1/2 活塞@快艇 Staple center prem', '[情報] 喬治談被噓：事情未按球迷的預期發展時，', '[新聞] 勇士早不在爭冠行列 柯爾：訓練營時就有預感', '[情報] LBJ：希望Butler投丟最後一球，因為我們', '[花邊] 講到本季不開心的事 LBJ:看不到兒子比賽', '[新聞] 字母哥率公鹿豪取17連勝\\u3000距離隊史紀錄只', '[情報] 巴特勒：今日比賽讓我們知道還不是頂級球', '[公告] 樂透取消及未來不再開啟樂透', '[公告] 版主上任相關事項', '[情報] SEASON Schedule 賽程 December 19–20', '[公告]是否禁止basketball top 5文章投票開始'], '時間': ['Sat Dec 14 13:07:20 2019', 'Sat Dec 14 13:21:34 2019', 'Sat Dec 14 13:31:33 2019', 'Sat Dec 14 13:33:26 2019', 'Sat Dec 14 13:55:12 2019', 'Sat Dec 14 14:00:33 2019', 'Sat Dec 14 14:02:28 2019', 'Sat Dec 14 14:10:41 2019', 'Sat Dec 14 14:18:51 2019', 'Sat Dec 14 14:33:41 2019', 'Sat Dec 14 15:06:01 2019', 'Sat Dec 14 15:12:43 2019', 'Sat Dec 14 15:24:47 2019', 'Sat Dec 14 16:53:00 2019', 'Mon Jun 24 15:08:02 2019', 'Fri Oct 25 10:44:03 2019', 'Fri Nov 29 00:46:01 2019', 'Sun Dec  8 23:55:00 2019']}\n"
     ]
    }
   ],
   "source": [
    "import requests\n",
    "from bs4 import BeautifulSoup\n",
    "url = 'https://www.ptt.cc/bbs/NBA/index.html'\n",
    "r = requests.get(url)\n",
    "dic={}\n",
    "soup = BeautifulSoup(r.text, \"html5lib\")\n",
    "#print(soup.prettify())\n",
    "for d in soup.find_all(class_=\"title\"):\n",
    "    print(d.text.replace('\\t', '').replace('\\n', ''))\n",
    "    try:\n",
    "        r = BeautifulSoup(requests.get('https://www.ptt.cc'+d.find('a')['href']).text, \"html5lib\")\n",
    "        #print()\n",
    "        alltag=r.find_all(class_=\"article-meta-tag\" )\n",
    "        allvalue = r.find_all(class_=\"article-meta-value\" )\n",
    "        numtag=len(alltag)\n",
    "        for index in range(numtag):\n",
    "        #cls =r.find(class_='article-meta-tag').text\n",
    "        #content = r.find(class_='article-meta-value').text \n",
    "            cls = alltag[index].text\n",
    "            content = allvalue[index].text\n",
    "            if( cls in dic):\n",
    "                dic[cls].append(content)\n",
    "            else:\n",
    "                dic[cls]=[content]\n",
    "    except:\n",
    "        continue\n",
    "print(dic)"
   ]
  },
  {
   "cell_type": "code",
   "execution_count": 95,
   "metadata": {},
   "outputs": [
    {
     "name": "stdout",
     "output_type": "stream",
     "text": [
      "4\n",
      "<span class=\"article-meta-tag\">作者</span>\n"
     ]
    }
   ],
   "source": [
    "import re\n",
    "#print(r)\n",
    "alltag=r.find_all(class_=re.compile(\"article-meta-tag\") )\n",
    "alltag=r.find_all(class_=\"article-meta-tag\" )\n",
    "print(len(alltag))\n",
    "print(alltag[0])\n",
    "#print(alltag[3])\n",
    "#print(alltag[3].text)"
   ]
  },
  {
   "cell_type": "code",
   "execution_count": 110,
   "metadata": {},
   "outputs": [],
   "source": [
    "import pandas as pd\n",
    "\n",
    "df = pd.DataFrame(dic)\n",
    "#df\n",
    "#alltag=r.find_all(class_='article-meta-tag')\n",
    "#print(alltag)\n",
    "#allv=r.find_all(class_='article-meta-value')\n",
    "#print(allv)"
   ]
  },
  {
   "cell_type": "markdown",
   "metadata": {},
   "source": [
    "### ① 印出最新文章的「作者」「標題」「時間」"
   ]
  },
  {
   "cell_type": "code",
   "execution_count": 108,
   "metadata": {},
   "outputs": [
    {
     "name": "stdout",
     "output_type": "stream",
     "text": [
      "[花邊] 字母哥和Lopez賽前摔角 HEHEHEHEHE 12/14\n"
     ]
    }
   ],
   "source": [
    "author = soup.find(class_=\"title\").find('a').text\n",
    "title = soup.find(class_=\"meta\").find(class_=\"author\").text\n",
    "time = soup.find(class_=\"meta\").find(class_=\"date\").text\n",
    "print(author,title,time)"
   ]
  },
  {
   "cell_type": "markdown",
   "metadata": {},
   "source": [
    "### ② 印出第一頁所有文章的「作者」「標題」「時間」"
   ]
  },
  {
   "cell_type": "code",
   "execution_count": 111,
   "metadata": {},
   "outputs": [
    {
     "data": {
      "text/html": [
       "<div>\n",
       "<style scoped>\n",
       "    .dataframe tbody tr th:only-of-type {\n",
       "        vertical-align: middle;\n",
       "    }\n",
       "\n",
       "    .dataframe tbody tr th {\n",
       "        vertical-align: top;\n",
       "    }\n",
       "\n",
       "    .dataframe thead th {\n",
       "        text-align: right;\n",
       "    }\n",
       "</style>\n",
       "<table border=\"1\" class=\"dataframe\">\n",
       "  <thead>\n",
       "    <tr style=\"text-align: right;\">\n",
       "      <th></th>\n",
       "      <th>作者</th>\n",
       "      <th>看板</th>\n",
       "      <th>標題</th>\n",
       "      <th>時間</th>\n",
       "    </tr>\n",
       "  </thead>\n",
       "  <tbody>\n",
       "    <tr>\n",
       "      <th>0</th>\n",
       "      <td>HEHEHEHEHE (ㄏㄧㄏㄧㄏ一)</td>\n",
       "      <td>NBA</td>\n",
       "      <td>[花邊] 字母哥和Lopez賽前摔角</td>\n",
       "      <td>Sat Dec 14 13:07:20 2019</td>\n",
       "    </tr>\n",
       "    <tr>\n",
       "      <th>1</th>\n",
       "      <td>s66449 (老實樣)</td>\n",
       "      <td>NBA</td>\n",
       "      <td>[新聞] 詹皇回熱火被狂噓半場7失誤　末節創造20</td>\n",
       "      <td>Sat Dec 14 13:21:34 2019</td>\n",
       "    </tr>\n",
       "    <tr>\n",
       "      <th>2</th>\n",
       "      <td>brian199524 (brian199524)</td>\n",
       "      <td>NBA</td>\n",
       "      <td>[情報] John Wall母親過世</td>\n",
       "      <td>Sat Dec 14 13:31:33 2019</td>\n",
       "    </tr>\n",
       "    <tr>\n",
       "      <th>3</th>\n",
       "      <td>Ayanami5566 (綾波五六)</td>\n",
       "      <td>NBA</td>\n",
       "      <td>[討論] 現在哪隊的氣氛最好？</td>\n",
       "      <td>Sat Dec 14 13:33:26 2019</td>\n",
       "    </tr>\n",
       "    <tr>\n",
       "      <th>4</th>\n",
       "      <td>TheOneisNEO (Thomas Anderson)</td>\n",
       "      <td>NBA</td>\n",
       "      <td>Re: [BOX ] Clippers 124:117 Timberwolves 數據</td>\n",
       "      <td>Sat Dec 14 13:55:12 2019</td>\n",
       "    </tr>\n",
       "    <tr>\n",
       "      <th>5</th>\n",
       "      <td>humbler (獸人H)</td>\n",
       "      <td>NBA</td>\n",
       "      <td>[討論] 我哥與濕婆的大師過招</td>\n",
       "      <td>Sat Dec 14 14:00:33 2019</td>\n",
       "    </tr>\n",
       "    <tr>\n",
       "      <th>6</th>\n",
       "      <td>youhow0418 (ㄈ87b3)</td>\n",
       "      <td>NBA</td>\n",
       "      <td>[情報] PG：快艇與我待過的所有球隊都很不同，</td>\n",
       "      <td>Sat Dec 14 14:02:28 2019</td>\n",
       "    </tr>\n",
       "    <tr>\n",
       "      <th>7</th>\n",
       "      <td>hhje (天烏烏)</td>\n",
       "      <td>NBA</td>\n",
       "      <td>[出售] 2020/1/2 活塞@快艇 Staple center prem</td>\n",
       "      <td>Sat Dec 14 14:10:41 2019</td>\n",
       "    </tr>\n",
       "    <tr>\n",
       "      <th>8</th>\n",
       "      <td>jk182325 (萬里花我老婆)</td>\n",
       "      <td>NBA</td>\n",
       "      <td>[情報] 喬治談被噓：事情未按球迷的預期發展時，</td>\n",
       "      <td>Sat Dec 14 14:18:51 2019</td>\n",
       "    </tr>\n",
       "    <tr>\n",
       "      <th>9</th>\n",
       "      <td>LinBaoYan (負酬者聯盟)</td>\n",
       "      <td>NBA</td>\n",
       "      <td>[新聞] 勇士早不在爭冠行列 柯爾：訓練營時就有預感</td>\n",
       "      <td>Sat Dec 14 14:33:41 2019</td>\n",
       "    </tr>\n",
       "    <tr>\n",
       "      <th>10</th>\n",
       "      <td>NSYSUheng (Pain)</td>\n",
       "      <td>NBA</td>\n",
       "      <td>[情報] LBJ：希望Butler投丟最後一球，因為我們</td>\n",
       "      <td>Sat Dec 14 15:06:01 2019</td>\n",
       "    </tr>\n",
       "    <tr>\n",
       "      <th>11</th>\n",
       "      <td>pneumo (超☆冒險蓋)</td>\n",
       "      <td>NBA</td>\n",
       "      <td>[花邊] 講到本季不開心的事 LBJ:看不到兒子比賽</td>\n",
       "      <td>Sat Dec 14 15:12:43 2019</td>\n",
       "    </tr>\n",
       "    <tr>\n",
       "      <th>12</th>\n",
       "      <td>fukawa947 (交大薛之謙)</td>\n",
       "      <td>NBA</td>\n",
       "      <td>[新聞] 字母哥率公鹿豪取17連勝　距離隊史紀錄只</td>\n",
       "      <td>Sat Dec 14 15:24:47 2019</td>\n",
       "    </tr>\n",
       "    <tr>\n",
       "      <th>13</th>\n",
       "      <td>la1aco (lalaco)</td>\n",
       "      <td>NBA</td>\n",
       "      <td>[情報] 巴特勒：今日比賽讓我們知道還不是頂級球</td>\n",
       "      <td>Sat Dec 14 16:53:00 2019</td>\n",
       "    </tr>\n",
       "    <tr>\n",
       "      <th>14</th>\n",
       "      <td>Vedan (味丹)</td>\n",
       "      <td>NBA</td>\n",
       "      <td>[公告] 樂透取消及未來不再開啟樂透</td>\n",
       "      <td>Mon Jun 24 15:08:02 2019</td>\n",
       "    </tr>\n",
       "    <tr>\n",
       "      <th>15</th>\n",
       "      <td>qazwsx879345 (Rajon Rondo)</td>\n",
       "      <td>NBA</td>\n",
       "      <td>[公告] 版主上任相關事項</td>\n",
       "      <td>Fri Oct 25 10:44:03 2019</td>\n",
       "    </tr>\n",
       "    <tr>\n",
       "      <th>16</th>\n",
       "      <td>JerroLi (銀色小刀)</td>\n",
       "      <td>NBA</td>\n",
       "      <td>[情報] SEASON Schedule 賽程 December 19–20</td>\n",
       "      <td>Fri Nov 29 00:46:01 2019</td>\n",
       "    </tr>\n",
       "    <tr>\n",
       "      <th>17</th>\n",
       "      <td>dragon803 (好想去露營啊~)</td>\n",
       "      <td>NBA</td>\n",
       "      <td>[公告]是否禁止basketball top 5文章投票開始</td>\n",
       "      <td>Sun Dec  8 23:55:00 2019</td>\n",
       "    </tr>\n",
       "  </tbody>\n",
       "</table>\n",
       "</div>"
      ],
      "text/plain": [
       "                               作者   看板  \\\n",
       "0             HEHEHEHEHE (ㄏㄧㄏㄧㄏ一)  NBA   \n",
       "1                    s66449 (老實樣)  NBA   \n",
       "2       brian199524 (brian199524)  NBA   \n",
       "3              Ayanami5566 (綾波五六)  NBA   \n",
       "4   TheOneisNEO (Thomas Anderson)  NBA   \n",
       "5                   humbler (獸人H)  NBA   \n",
       "6              youhow0418 (ㄈ87b3)  NBA   \n",
       "7                      hhje (天烏烏)  NBA   \n",
       "8               jk182325 (萬里花我老婆)  NBA   \n",
       "9               LinBaoYan (負酬者聯盟)  NBA   \n",
       "10               NSYSUheng (Pain)  NBA   \n",
       "11                 pneumo (超☆冒險蓋)  NBA   \n",
       "12              fukawa947 (交大薛之謙)  NBA   \n",
       "13                la1aco (lalaco)  NBA   \n",
       "14                     Vedan (味丹)  NBA   \n",
       "15     qazwsx879345 (Rajon Rondo)  NBA   \n",
       "16                 JerroLi (銀色小刀)  NBA   \n",
       "17            dragon803 (好想去露營啊~)  NBA   \n",
       "\n",
       "                                             標題                        時間  \n",
       "0                            [花邊] 字母哥和Lopez賽前摔角  Sat Dec 14 13:07:20 2019  \n",
       "1                     [新聞] 詹皇回熱火被狂噓半場7失誤　末節創造20  Sat Dec 14 13:21:34 2019  \n",
       "2                            [情報] John Wall母親過世  Sat Dec 14 13:31:33 2019  \n",
       "3                               [討論] 現在哪隊的氣氛最好？  Sat Dec 14 13:33:26 2019  \n",
       "4   Re: [BOX ] Clippers 124:117 Timberwolves 數據  Sat Dec 14 13:55:12 2019  \n",
       "5                               [討論] 我哥與濕婆的大師過招  Sat Dec 14 14:00:33 2019  \n",
       "6                      [情報] PG：快艇與我待過的所有球隊都很不同，  Sat Dec 14 14:02:28 2019  \n",
       "7        [出售] 2020/1/2 活塞@快艇 Staple center prem  Sat Dec 14 14:10:41 2019  \n",
       "8                      [情報] 喬治談被噓：事情未按球迷的預期發展時，  Sat Dec 14 14:18:51 2019  \n",
       "9                    [新聞] 勇士早不在爭冠行列 柯爾：訓練營時就有預感  Sat Dec 14 14:33:41 2019  \n",
       "10                 [情報] LBJ：希望Butler投丟最後一球，因為我們  Sat Dec 14 15:06:01 2019  \n",
       "11                   [花邊] 講到本季不開心的事 LBJ:看不到兒子比賽  Sat Dec 14 15:12:43 2019  \n",
       "12                    [新聞] 字母哥率公鹿豪取17連勝　距離隊史紀錄只  Sat Dec 14 15:24:47 2019  \n",
       "13                     [情報] 巴特勒：今日比賽讓我們知道還不是頂級球  Sat Dec 14 16:53:00 2019  \n",
       "14                           [公告] 樂透取消及未來不再開啟樂透  Mon Jun 24 15:08:02 2019  \n",
       "15                                [公告] 版主上任相關事項  Fri Oct 25 10:44:03 2019  \n",
       "16       [情報] SEASON Schedule 賽程 December 19–20  Fri Nov 29 00:46:01 2019  \n",
       "17               [公告]是否禁止basketball top 5文章投票開始  Sun Dec  8 23:55:00 2019  "
      ]
     },
     "execution_count": 111,
     "metadata": {},
     "output_type": "execute_result"
    }
   ],
   "source": [
    "df"
   ]
  },
  {
   "cell_type": "markdown",
   "metadata": {},
   "source": [
    "### ③ 試著爬爬看其他版的文章"
   ]
  },
  {
   "cell_type": "code",
   "execution_count": 118,
   "metadata": {},
   "outputs": [
    {
     "name": "stdout",
     "output_type": "stream",
     "text": [
      "[閒聊] 第一份薪水拿來買赫蓮娜 X__X Lukas618 12/12\n",
      "[請益] 下巴紅腫發炎大燜痘 tonton2 12/13\n",
      "[請益] 油頭平價無矽靈洗髮精推薦-替代呂紫瓶 rexforheart 12/13\n",
      "[請益］抗痘疤推薦 ch4389411 12/13\n",
      "[請益] Aesop 的賦活芳香手護組 emily100491 12/13\n",
      "[請益] 皮膚炎使用類固醇藥物 Hoffnung11 12/13\n",
      "Re: [請益] 愛閃耀系列保養品 stupid52020 12/13\n",
      "[心得] 小屈值得買的醫美好物(CeraVe保濕乳.雅漾 lucyjay 12/13\n",
      "[心得] 身體乳評比：珂潤、CeraVe a3732525 12/13\n",
      "[心得] 冬季癢愛用Aveeno身體乳 深藍罐＋薰衣草 Sarasala 12/13\n",
      "[心得] 19年末 倩碧粉空空賞第一集 潔膚水 洗卸 qmovic 12/13\n",
      "[心得] 貝德瑪無可取代請加1 AEVELYN 12/14\n",
      "Re: [請益] 思麗安乳膏一條用多久？ starbuck 12/14\n",
      "[心得] 蘭芝睡美人晚安面膜＋牛奶水聖誕限定組 yuico 12/14\n",
      "[閒聊] 冬天乾肌用什麼洗臉？ voncroy 12/14\n",
      "[請益] 乾肌洗完臉的保養 pinraychen 12/14\n",
      "[心得] 露苡傾城私密保養油  Jencole 12/14\n",
      "Re: [請益] 乾肌洗完臉的保養 fjuuu 12/14\n",
      "[公告] BeautySalon板規 2019/04/19 重新發表 leon8712  8/10\n",
      "[閒聊] 2019/11-12月 置底打屁閒聊區 leon8712 11/04\n",
      "[情報] 2019/11-12月 熱門商品推文區 leon8712 11/04\n"
     ]
    }
   ],
   "source": [
    "url = 'https://www.ptt.cc/bbs/BeautySalon/index.html'\n",
    "r = requests.get(url)\n",
    "\n",
    "soup = BeautifulSoup(r.text, \"html5lib\")\n",
    "#print(soup.prettify())\n",
    "tmp=soup.find_all(class_=\"r-ent\")[0].find(class_=\"meta\").find(class_=\"author\").text\n",
    "#print(tmp)\n",
    "for d in soup.find_all(class_=\"r-ent\"):\n",
    "    author = d.find(class_=\"title\").find('a').text\n",
    "    title = d.find(class_=\"meta\").find(class_=\"author\").text\n",
    "    time = d.find(class_=\"meta\").find(class_=\"date\").text\n",
    "    print(author,title,time)"
   ]
  },
  {
   "cell_type": "code",
   "execution_count": null,
   "metadata": {},
   "outputs": [],
   "source": []
  }
 ],
 "metadata": {
  "kernelspec": {
   "display_name": "Python 3",
   "language": "python",
   "name": "python3"
  },
  "language_info": {
   "codemirror_mode": {
    "name": "ipython",
    "version": 3
   },
   "file_extension": ".py",
   "mimetype": "text/x-python",
   "name": "python",
   "nbconvert_exporter": "python",
   "pygments_lexer": "ipython3",
   "version": "3.6.5"
  }
 },
 "nbformat": 4,
 "nbformat_minor": 2
}
